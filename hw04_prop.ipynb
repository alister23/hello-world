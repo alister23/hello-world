{
  "cells": [
    {
      "cell_type": "markdown",
      "id": "251e8452",
      "metadata": {
        "id": "251e8452"
      },
      "source": [
        "# Homework 4 (Propositional Logic)"
      ]
    },
    {
      "cell_type": "code",
      "execution_count": 2,
      "id": "faa01c91",
      "metadata": {
        "id": "faa01c91",
        "colab": {
          "base_uri": "https://localhost:8080/"
        },
        "outputId": "64619915-5508-4f3c-b4d1-8e846b9a3389"
      },
      "outputs": [
        {
          "output_type": "stream",
          "name": "stdout",
          "text": [
            "Collecting sympy==1.10\n",
            "  Downloading sympy-1.10-py3-none-any.whl.metadata (12 kB)\n",
            "Requirement already satisfied: mpmath>=0.19 in /usr/local/lib/python3.11/dist-packages (from sympy==1.10) (1.3.0)\n",
            "Downloading sympy-1.10-py3-none-any.whl (6.4 MB)\n",
            "\u001b[2K   \u001b[90m━━━━━━━━━━━━━━━━━━━━━━━━━━━━━━━━━━━━━━━━\u001b[0m \u001b[32m6.4/6.4 MB\u001b[0m \u001b[31m27.6 MB/s\u001b[0m eta \u001b[36m0:00:00\u001b[0m\n",
            "\u001b[?25hInstalling collected packages: sympy\n",
            "  Attempting uninstall: sympy\n",
            "    Found existing installation: sympy 1.13.1\n",
            "    Uninstalling sympy-1.13.1:\n",
            "      Successfully uninstalled sympy-1.13.1\n",
            "\u001b[31mERROR: pip's dependency resolver does not currently take into account all the packages that are installed. This behaviour is the source of the following dependency conflicts.\n",
            "torch 2.5.1+cu124 requires nvidia-cublas-cu12==12.4.5.8; platform_system == \"Linux\" and platform_machine == \"x86_64\", but you have nvidia-cublas-cu12 12.5.3.2 which is incompatible.\n",
            "torch 2.5.1+cu124 requires nvidia-cuda-cupti-cu12==12.4.127; platform_system == \"Linux\" and platform_machine == \"x86_64\", but you have nvidia-cuda-cupti-cu12 12.5.82 which is incompatible.\n",
            "torch 2.5.1+cu124 requires nvidia-cuda-nvrtc-cu12==12.4.127; platform_system == \"Linux\" and platform_machine == \"x86_64\", but you have nvidia-cuda-nvrtc-cu12 12.5.82 which is incompatible.\n",
            "torch 2.5.1+cu124 requires nvidia-cuda-runtime-cu12==12.4.127; platform_system == \"Linux\" and platform_machine == \"x86_64\", but you have nvidia-cuda-runtime-cu12 12.5.82 which is incompatible.\n",
            "torch 2.5.1+cu124 requires nvidia-cudnn-cu12==9.1.0.70; platform_system == \"Linux\" and platform_machine == \"x86_64\", but you have nvidia-cudnn-cu12 9.3.0.75 which is incompatible.\n",
            "torch 2.5.1+cu124 requires nvidia-cufft-cu12==11.2.1.3; platform_system == \"Linux\" and platform_machine == \"x86_64\", but you have nvidia-cufft-cu12 11.2.3.61 which is incompatible.\n",
            "torch 2.5.1+cu124 requires nvidia-curand-cu12==10.3.5.147; platform_system == \"Linux\" and platform_machine == \"x86_64\", but you have nvidia-curand-cu12 10.3.6.82 which is incompatible.\n",
            "torch 2.5.1+cu124 requires nvidia-cusolver-cu12==11.6.1.9; platform_system == \"Linux\" and platform_machine == \"x86_64\", but you have nvidia-cusolver-cu12 11.6.3.83 which is incompatible.\n",
            "torch 2.5.1+cu124 requires nvidia-cusparse-cu12==12.3.1.170; platform_system == \"Linux\" and platform_machine == \"x86_64\", but you have nvidia-cusparse-cu12 12.5.1.3 which is incompatible.\n",
            "torch 2.5.1+cu124 requires nvidia-nvjitlink-cu12==12.4.127; platform_system == \"Linux\" and platform_machine == \"x86_64\", but you have nvidia-nvjitlink-cu12 12.5.82 which is incompatible.\n",
            "torch 2.5.1+cu124 requires sympy==1.13.1; python_version >= \"3.9\", but you have sympy 1.10 which is incompatible.\u001b[0m\u001b[31m\n",
            "\u001b[0mSuccessfully installed sympy-1.10\n"
          ]
        }
      ],
      "source": [
        "!pip install sympy==1.10"
      ]
    },
    {
      "cell_type": "markdown",
      "id": "e6457164",
      "metadata": {
        "id": "e6457164"
      },
      "source": [
        "## Imports and Utilities\n",
        "**Note**: these imports and functions are available in catsoop. You do not need to copy them in."
      ]
    },
    {
      "cell_type": "code",
      "execution_count": 1,
      "id": "969092d9",
      "metadata": {
        "id": "969092d9"
      },
      "outputs": [],
      "source": [
        "import numpy as np\n",
        "import sympy"
      ]
    },
    {
      "cell_type": "markdown",
      "id": "68e290bb",
      "metadata": {
        "id": "68e290bb"
      },
      "source": [
        "## Propositional Sentence Evaluation"
      ]
    },
    {
      "cell_type": "markdown",
      "id": "3948f587",
      "metadata": {
        "id": "3948f587"
      },
      "source": [
        "### Utilities"
      ]
    },
    {
      "cell_type": "markdown",
      "id": "6d35743c",
      "metadata": {
        "id": "6d35743c"
      },
      "source": [
        "\n",
        "**Note**: these imports and functions are available in catsoop. You do not need to copy them in."
      ]
    },
    {
      "cell_type": "code",
      "execution_count": null,
      "id": "289d7fac",
      "metadata": {
        "id": "289d7fac"
      },
      "outputs": [],
      "source": [
        "\n",
        "import collections\n",
        "\n",
        "## Common logic data structures\n",
        "Not = collections.namedtuple(\"Not\", [\"sentence\"])\n",
        "And = collections.namedtuple(\"And\", [\"sentence1\", \"sentence2\"])\n",
        "Or = collections.namedtuple(\"Or\", [\"sentence1\", \"sentence2\"])\n",
        "Implies = collections.namedtuple(\"Implies\", [\"sentence1\", \"sentence2\"])\n",
        "\n",
        "## Propositional logic data structures\n",
        "Proposition = str  # Name of the proposition\n",
        "PropositionalModel = dict  # Proposition -> bool\n",
        "\n",
        "## Example of PropositionalModel, used in tests\n",
        "IS_RAINING = Proposition(\"is-raining\")\n",
        "IS_SUNNY = Proposition(\"is-sunny\")\n",
        "NEED_UMBRELLA = Proposition(\"need-umbrella\")\n",
        "PROP_MODEL = PropositionalModel({\n",
        "    IS_RAINING: True,\n",
        "    IS_SUNNY: False,\n",
        "    NEED_UMBRELLA: True,\n",
        "})"
      ]
    },
    {
      "cell_type": "markdown",
      "id": "843303ba",
      "metadata": {
        "id": "843303ba"
      },
      "source": [
        "### Question\n",
        "*Note: for these questions, refer to the top of the Colab notebook.*\n",
        "Write a function that takes a propositional sentence and evaluates it against a single model.\n",
        "You may find python's builtin `isinstance` useful. For example, `isinstance(sentence, And)` returns whether a sentence is an `And`.\n",
        "\n",
        "For reference, our solution is **15** line(s) of code."
      ]
    },
    {
      "cell_type": "code",
      "execution_count": null,
      "id": "31717d78",
      "metadata": {
        "id": "31717d78"
      },
      "outputs": [],
      "source": [
        "def evaluate_propositional_sentence(sentence, model):\n",
        "    \"\"\"Evaluate a propositional sentence against a single model.\n",
        "\n",
        "    Args:\n",
        "      sentence: A Proposition, And, Or, Not, or Implies.\n",
        "      model: A PropositionalModel.\n",
        "\n",
        "    Returns:\n",
        "      holds: A bool representing the truth value of the sentence\n",
        "        under the model.\n",
        "    \"\"\"\n",
        "    raise NotImplementedError(\"Implement me!\")"
      ]
    },
    {
      "cell_type": "markdown",
      "id": "d236547b",
      "metadata": {
        "id": "d236547b"
      },
      "source": [
        "### Tests"
      ]
    },
    {
      "cell_type": "code",
      "execution_count": null,
      "id": "ce40b881",
      "metadata": {
        "id": "ce40b881"
      },
      "outputs": [],
      "source": [
        "assert evaluate_propositional_sentence(IS_RAINING, PROP_MODEL) == True\n",
        "\n",
        "\n",
        "assert evaluate_propositional_sentence(Not(IS_RAINING), PROP_MODEL) == False\n",
        "\n",
        "\n",
        "assert evaluate_propositional_sentence(And(IS_RAINING, IS_SUNNY),\n",
        "                                       PROP_MODEL) == False\n",
        "\n",
        "\n",
        "assert evaluate_propositional_sentence(Implies(IS_SUNNY, Not(IS_RAINING)),\n",
        "                                       PROP_MODEL) == True\n",
        "\n",
        "\n",
        "assert evaluate_propositional_sentence(Or(IS_RAINING, Not(IS_RAINING)),\n",
        "                                       PROP_MODEL) == True\n",
        "\n",
        "assert evaluate_propositional_sentence(And(Or(Not(IS_RAINING), Not(Not(NEED_UMBRELLA))),\n",
        "                                           Or(IS_SUNNY, Not(Not(Implies(Not(IS_RAINING), IS_SUNNY))))),\n",
        "                                       PROP_MODEL) == True\n",
        "\n",
        "print('Tests passed.')"
      ]
    },
    {
      "cell_type": "markdown",
      "id": "6bdeeec1",
      "metadata": {
        "id": "6bdeeec1"
      },
      "source": [
        "## Warmup\n"
      ]
    },
    {
      "cell_type": "markdown",
      "id": "e06270c7",
      "metadata": {
        "id": "e06270c7"
      },
      "source": [
        "### Utilities"
      ]
    },
    {
      "cell_type": "markdown",
      "id": "a2f812b2",
      "metadata": {
        "id": "a2f812b2"
      },
      "source": [
        "\n",
        "**Note**: these imports and functions are available in catsoop. You do not need to copy them in."
      ]
    },
    {
      "cell_type": "code",
      "execution_count": null,
      "id": "d265f047",
      "metadata": {
        "id": "d265f047"
      },
      "outputs": [],
      "source": [
        "def lit_to_var_val(literal):\n",
        "    \"\"\"Converts a literal into (variable, value).\n",
        "\n",
        "    Args:\n",
        "      literal: A nonzero int.\n",
        "\n",
        "    Returns:\n",
        "      variable: A positive int representing a variable.\n",
        "      value: True or False, i.e., positive or negative.\n",
        "    \"\"\"\n",
        "    return abs(literal), literal > 0\n",
        "\n",
        "\n",
        "def is_cnf_formula(formula):\n",
        "    \"\"\"Checks whether the input is a valid CNF formula.\n",
        "\n",
        "    A formula is in valid CNF form if it is a list of lists of nonzero\n",
        "    integers with sign indicating whether the variable is negated.\n",
        "\n",
        "    You will not need to use this utility in your implementation,\n",
        "    but it may be useful to read to understand the CNF representation.\n",
        "    \"\"\"\n",
        "    if not isinstance(formula, list):\n",
        "        return False\n",
        "    if len(formula) == 0:\n",
        "        return True\n",
        "    clause = formula[0]\n",
        "    if not isinstance(clause, list):\n",
        "        return False\n",
        "    for literal in clause:\n",
        "        if not isinstance(literal, int):\n",
        "            return False\n",
        "        if literal == 0:\n",
        "            return False\n",
        "    if len(formula) == 1:\n",
        "        return True\n",
        "    return is_cnf_formula(formula[1:])\n",
        "\n",
        "\n",
        "def get_variables_in_cnf_formula(cnf_formula):\n",
        "    \"\"\"Get a list of all variables in a CNF formula.\n",
        "\n",
        "    Args:\n",
        "      cnf_formula: A list of lists of nonzero ints.\n",
        "\n",
        "    Returns:\n",
        "      variables: A list of all variables that appear in\n",
        "        the formula.\n",
        "    \"\"\"\n",
        "    variables = set()\n",
        "    for clause in cnf_formula:\n",
        "        variables.update({lit_to_var_val(literal)[0] for literal in clause})\n",
        "    variables = sorted(variables)\n",
        "    return variables"
      ]
    },
    {
      "cell_type": "markdown",
      "id": "7929e5ea",
      "metadata": {
        "id": "7929e5ea"
      },
      "source": [
        "### Question\n",
        "In this problem, CNF formulas are represented as lists of lists of nonzero integers. The sign of the integer represents whether the corresponding proposition is negated or not. For example, the formula ((x1 or not x2) and (x3 or x2)) would be represented as [[1, -2], [3, 2]]. Complete the following function to confirm your understanding of this representation.\n",
        "\n",
        "For reference, our solution is **2** line(s) of code."
      ]
    },
    {
      "cell_type": "code",
      "execution_count": null,
      "id": "1d3844e0",
      "metadata": {
        "id": "1d3844e0"
      },
      "outputs": [],
      "source": [
        "def warmup():\n",
        "    \"\"\"Return a list of lists of ints for the CNF formula:\n",
        "\n",
        "    ((x4 or not x5 or not x6) and (x6 or x5 or not x1) and (x2 or x3)).\n",
        "\n",
        "    Keep the same order as in the formula above.\n",
        "    \"\"\"\n",
        "    raise NotImplementedError(\"Implement me!\")"
      ]
    },
    {
      "cell_type": "markdown",
      "id": "6ecf0f78",
      "metadata": {
        "id": "6ecf0f78"
      },
      "source": [
        "### Tests"
      ]
    },
    {
      "cell_type": "code",
      "execution_count": null,
      "id": "d292bbf0",
      "metadata": {
        "id": "d292bbf0"
      },
      "outputs": [],
      "source": [
        "# Note: the catsoop test is more strict for this question\n",
        "# than the unit tests here. Make sure that your answer\n",
        "# matches the description in the docstring exactly.\n",
        "assert is_cnf_formula(warmup())\n",
        "assert get_variables_in_cnf_formula(warmup()) == [1, 2, 3, 4, 5, 6]\n",
        "\n",
        "print('Tests passed.')"
      ]
    },
    {
      "cell_type": "markdown",
      "id": "3360e42e",
      "metadata": {
        "id": "3360e42e"
      },
      "source": [
        "## [OPTIONAL] DPLL\n"
      ]
    },
    {
      "cell_type": "markdown",
      "id": "b6570e13",
      "metadata": {
        "id": "b6570e13"
      },
      "source": [
        "### Utilities"
      ]
    },
    {
      "cell_type": "markdown",
      "id": "e9e6a1d0",
      "metadata": {
        "id": "e9e6a1d0"
      },
      "source": [
        "**Note**: these imports and functions are available in catsoop. You do not need to copy them in."
      ]
    },
    {
      "cell_type": "code",
      "execution_count": null,
      "id": "ebc3b63e",
      "metadata": {
        "id": "ebc3b63e"
      },
      "outputs": [],
      "source": [
        "\n",
        "\n",
        "def clause_is_determined(clause, partial_assignment):\n",
        "    \"\"\"Checks whether all variables in the clause have an assignment.\n",
        "\n",
        "    Args:\n",
        "      clause: A list of nonzero ints.\n",
        "      partial_assignment: A dict of variables (ints) to values (bools).\n",
        "\n",
        "    Returns:\n",
        "      is_determined: True if all variables in the clause appear in\n",
        "        partial_assignment.\n",
        "    \"\"\"\n",
        "    for literal in clause:\n",
        "        if not (literal in partial_assignment or\n",
        "                -literal in partial_assignment):\n",
        "            return False\n",
        "    return True\n",
        "\n",
        "\n",
        "def literal_is_satisfied(literal, partial_assignment):\n",
        "    \"\"\"Checks whether the literal is satisfied by the assignment.\n",
        "\n",
        "    Args:\n",
        "      literal: A nonzero int.\n",
        "      partial_assignment: A dict of variables (ints) to values (bools).\n",
        "\n",
        "    Returns:\n",
        "      is_satisfied: True if the literal's variable appears in the\n",
        "        partial_assignment, with a sign matching the literal.\n",
        "    \"\"\"\n",
        "    variable, val = lit_to_var_val(literal)\n",
        "    return variable in partial_assignment and partial_assignment[variable] == val\n",
        "\n",
        "\n",
        "def clause_is_satisfied(clause, partial_assignment):\n",
        "    \"\"\"Checks whether the clause is satisfied by the assignment.\n",
        "\n",
        "    Args:\n",
        "      clause: A list of nonzero ints.\n",
        "      partial_assignment: A dict of variables (ints) to values (bools).\n",
        "\n",
        "    Returns:\n",
        "      is_satisfied: True if some literal in the clause is satisfied.\n",
        "    \"\"\"\n",
        "    for literal in clause:\n",
        "        if literal_is_satisfied(literal, partial_assignment):\n",
        "            return True\n",
        "    return False\n",
        "\n",
        "\n",
        "def find_pure_variable(cnf_formula, variables, partial_assignment):\n",
        "    \"\"\"Helper for DPLL.\n",
        "\n",
        "    A variable is pure if it has the same sign in all unsatisfied clauses\n",
        "    and if it is not already assigned.\n",
        "\n",
        "    If a pure variable exists, this function returns the variable and value\n",
        "    corresponding to the literal. (If multiple exist, return an arbitrary one.)\n",
        "\n",
        "    If no pure variables exist, return (None, None).\n",
        "\n",
        "    Args:\n",
        "      cnf_formula: A list of lists of nonzero integers representing a CNF formula,\n",
        "        with sign indicating whether the variable is negated.\n",
        "      variables: A list of positive integers.\n",
        "      partial_assignment: A dict mapping positive integers to bools, or None for\n",
        "        an empty assignment.\n",
        "\n",
        "    Returns:\n",
        "      variable : A positive integer or None.\n",
        "      value: A bool or None.\n",
        "    \"\"\"\n",
        "    candidate_to_possible_values  = {v : {True, False} for v in variables \\\n",
        "                                    if v not in partial_assignment}\n",
        "    for clause in cnf_formula:\n",
        "        if clause_is_satisfied(clause, partial_assignment):\n",
        "            continue\n",
        "        for literal in clause:\n",
        "            variable, value = lit_to_var_val(literal)\n",
        "            if variable in candidate_to_possible_values:\n",
        "                candidate_to_possible_values[variable].discard(not value)\n",
        "    for candidate, possible_values in candidate_to_possible_values.items():\n",
        "        if possible_values:\n",
        "            value = next(iter(possible_values))\n",
        "            return candidate, value\n",
        "    return None, None\n",
        "\n",
        "\n",
        "def find_unit_clause(cnf_formula, partial_assignment):\n",
        "    \"\"\"Helper for DPLL.\n",
        "\n",
        "    A clause is a unit clause if all literals but one are already assigned to\n",
        "    False. If a unit clause exists, this function returns the variable and value\n",
        "    corresponding to the literal. (If multiple exist, return an arbitrary one.)\n",
        "\n",
        "    Args:\n",
        "      cnf_formula: A list of lists of nonzero integers representing a CNF formula,\n",
        "        with sign indicating whether the variable is negated.\n",
        "      variables: A list of positive integers.\n",
        "      partial_assignment: A dict mapping positive integers to bools, or None for\n",
        "        an empty assignment.\n",
        "\n",
        "    Returns:\n",
        "      variable : A positive integer or None.\n",
        "      value: A bool or None.\n",
        "    \"\"\"\n",
        "    for clause in cnf_formula:\n",
        "        unassigned_literal = None\n",
        "        is_unit_clause = True\n",
        "        for literal in clause:\n",
        "            # If the literal is true in the assignment, this is not a unit clause\n",
        "            if literal_is_satisfied(literal, partial_assignment):\n",
        "                is_unit_clause = False\n",
        "                break\n",
        "            # If the literal is false in the assignment, this could be a unit clause\n",
        "            elif literal in partial_assignment:\n",
        "                continue\n",
        "            # If there is already an unassigned literal, this is not a unit clause\n",
        "            elif not (unassigned_literal is None):\n",
        "                is_unit_clause = False\n",
        "                break\n",
        "            else:\n",
        "                unassigned_literal = literal\n",
        "        if is_unit_clause and not (unassigned_literal is None):\n",
        "            return lit_to_var_val(unassigned_literal)\n",
        "    return None, None"
      ]
    },
    {
      "cell_type": "markdown",
      "id": "d0e4d755",
      "metadata": {
        "id": "d0e4d755"
      },
      "source": [
        "### [OPTIONAL] Question\n",
        "\n",
        "**This question is optional.** Uncomment the tests below if you'd like to work on it. You can find an explanation of it and pseudocode in AIMA section 7.6.\n",
        "\n",
        "Use your helper functions to complete an implementation of DPLL.\n",
        "\n",
        "For reference, our solution is **59** line(s) of code."
      ]
    },
    {
      "cell_type": "code",
      "execution_count": null,
      "id": "26c249c7",
      "metadata": {
        "id": "26c249c7"
      },
      "outputs": [],
      "source": [
        "def run_inference_dpll(cnf_formula):\n",
        "    \"\"\"Find a satisfying assignment for a propositional CNF formula with DPLL.\n",
        "\n",
        "    Args:\n",
        "      cnf_formula: A list of lists of nonzero integers representing a CNF formula,\n",
        "        with sign indicating whether the variable is negated.\n",
        "\n",
        "    Returns:\n",
        "      satisfiable: A bool indicating whether some satisfying assignment exists.\n",
        "      assignment: A dict mapping positive integers to bools, or None if no\n",
        "        satisfying assignment exists.\n",
        "\n",
        "    Examples:\n",
        "      >> run_inference_dpll([[1, -2], [-1, -2]])\n",
        "      >> (True, {1: True, 2: False}))\n",
        "\n",
        "      >> run_inference_dpll([[1], [-1]])\n",
        "      >> (False, None)\n",
        "    \"\"\"\n",
        "    raise NotImplementedError(\"Implement me!\")"
      ]
    },
    {
      "cell_type": "markdown",
      "id": "e19c487c",
      "metadata": {
        "id": "e19c487c"
      },
      "source": [
        "### Tests"
      ]
    },
    {
      "cell_type": "code",
      "execution_count": null,
      "id": "5d313f42",
      "metadata": {
        "id": "5d313f42"
      },
      "outputs": [],
      "source": [
        "\"\"\" Uncomment to work on this problem!\n",
        "assert run_inference_dpll([]) == (True, {})\n",
        "\n",
        "\n",
        "assert run_inference_dpll([[1]]) == (True, {1: True})\n",
        "\n",
        "\n",
        "assert run_inference_dpll([[-1]]) == (True, {1: False})\n",
        "\n",
        "\n",
        "assert run_inference_dpll([[1, 2]]) in [(True, {1: True, 2: True}), (True, {1: True, 2: False}), (True, {1: False, 2: True})]\n",
        "\n",
        "\n",
        "assert run_inference_dpll([[-1, 2]]) in [(True, {1: True, 2: True}), (True, {1: False, 2: True}), (True, {1: False, 2: False})]\n",
        "\n",
        "\n",
        "assert run_inference_dpll([[1], [-1]]) == (False, None)\n",
        "\n",
        "\n",
        "assert run_inference_dpll([[1, 2, 3], [-1, -2, -3], [1, -2, 3], [-1], [-3]]) == (False, None)\n",
        "\n",
        "\n",
        "assert run_inference_dpll([[1], [2], [3], [4], [5], [6], [7], [8], [9], [10], [11], [12], [13], [14], [15], [16], [17], [18], [19], [20], [21], [22], [23], [24], [25], [26], [27], [28], [29], [30], [31], [32]]) == (True, {1: True, 2: True, 3: True, 4: True, 5: True, 6: True, 7: True, 8: True, 9: True, 10: True, 11: True, 12: True, 13: True, 14: True, 15: True, 16: True, 17: True, 18: True, 19: True, 20: True, 21: True, 22: True, 23: True, 24: True, 25: True, 26: True, 27: True, 28: True, 29: True, 30: True, 31: True, 32: True})\n",
        "print('Tests passed.')\n",
        "\"\"\""
      ]
    },
    {
      "cell_type": "markdown",
      "id": "53f981f0",
      "metadata": {
        "id": "53f981f0"
      },
      "source": [
        "## Sympy Warmup 1\n"
      ]
    },
    {
      "cell_type": "markdown",
      "id": "3b2e293d",
      "metadata": {
        "id": "3b2e293d"
      },
      "source": [
        "### Question\n",
        "Use sympy to determine whether the following formula is satisfiable:\n",
        "$(\\neg x_1 \\land x_2) \\Rightarrow ((x_2 \\lor x_3) \\land (x_1 \\lor \\neg x_3))$.\n",
        "\n",
        "Note that the return type should be **bool**.\n",
        "\n",
        "\n",
        "For reference, our solution is **4** line(s) of code."
      ]
    },
    {
      "cell_type": "code",
      "execution_count": null,
      "id": "fdc4278e",
      "metadata": {
        "id": "fdc4278e"
      },
      "outputs": [],
      "source": [
        "def formula1_is_satisfiable():\n",
        "    \"\"\"Determines whether the above formula is satisfiable.\n",
        "\n",
        "    Returns:\n",
        "      is_satisfiable: A bool indicating whether the formula is satisfiable.\n",
        "    \"\"\"\n",
        "    raise NotImplementedError(\"Implement me!\")"
      ]
    },
    {
      "cell_type": "markdown",
      "id": "f35e74cc",
      "metadata": {
        "id": "f35e74cc"
      },
      "source": [
        "### Tests"
      ]
    },
    {
      "cell_type": "code",
      "execution_count": null,
      "id": "44382f15",
      "metadata": {
        "id": "44382f15"
      },
      "outputs": [],
      "source": [
        "\n",
        "assert formula1_is_satisfiable() == True\n",
        "print('Tests passed.')"
      ]
    },
    {
      "cell_type": "markdown",
      "id": "5e0af1c6",
      "metadata": {
        "id": "5e0af1c6"
      },
      "source": [
        "## Sympy Warmup 2\n"
      ]
    },
    {
      "cell_type": "markdown",
      "id": "ef93991e",
      "metadata": {
        "id": "ef93991e"
      },
      "source": [
        "### Question\n",
        "Use sympy to determine whether the following formula is satisfiable:\n",
        "$(x_1 \\lor x_2) \\land (\\neg x_1 \\lor \\neg x_2) \\land (x_1 \\lor \\neg x_2) \\land (\\neg x_1 \\lor x_2)$.\n",
        "\n",
        "\n",
        "For reference, our solution is **4** line(s) of code."
      ]
    },
    {
      "cell_type": "code",
      "execution_count": null,
      "id": "160394c6",
      "metadata": {
        "id": "160394c6"
      },
      "outputs": [],
      "source": [
        "def formula2_is_satisfiable():\n",
        "    \"\"\"Determines whether the above formula is satisfiable.\n",
        "\n",
        "    Returns:\n",
        "      is_satisfiable: A bool indicating whether the formula is satisfiable.\n",
        "    \"\"\"\n",
        "    raise NotImplementedError(\"Implement me!\")"
      ]
    },
    {
      "cell_type": "markdown",
      "id": "bffbacb0",
      "metadata": {
        "id": "bffbacb0"
      },
      "source": [
        "### Tests"
      ]
    },
    {
      "cell_type": "code",
      "execution_count": null,
      "id": "58d80920",
      "metadata": {
        "id": "58d80920"
      },
      "outputs": [],
      "source": [
        "\n",
        "assert formula2_is_satisfiable() == False\n",
        "print('Tests passed.')"
      ]
    },
    {
      "cell_type": "markdown",
      "id": "c3138cbc",
      "metadata": {
        "id": "c3138cbc"
      },
      "source": [
        "## Search and Rescue Inference"
      ]
    },
    {
      "cell_type": "markdown",
      "id": "7a47d7c2",
      "metadata": {
        "id": "7a47d7c2"
      },
      "source": [
        "### Question\n",
        "Write a program that takes a grid as input and infers unknown values.\n",
        "\n",
        "Your program should output a new grid with all determinable unknown values replaced with the inferred value. If an unknown value cannot be determined, it should be left unknown.\n",
        "\n",
        "**Your program should use sympy.**\n",
        "\n",
        "\n",
        "For reference, our solution is **57** line(s) of code."
      ]
    },
    {
      "cell_type": "code",
      "execution_count": 37,
      "id": "81059f73",
      "metadata": {
        "id": "81059f73"
      },
      "outputs": [],
      "source": [
        "def get_neighbors(grid, row, col):\n",
        "  neighbors = []\n",
        "  for x,y in [[-1,0], [1,0], [0,-1], [0,1]]:\n",
        "    if 0 <= row+x < len(grid) and 0 <= col+y < len(grid[0]):\n",
        "      neighbors.append((row+x,col+y))\n",
        "  return neighbors\n",
        "\n",
        "def infer_unknown_values(grid):\n",
        "    \"\"\"Fill in any unknown values in the grid that can be inferred.\n",
        "\n",
        "    Args:\n",
        "      grid: A list of lists of \"F\", \"U\", \"S\", or \"C\".\n",
        "\n",
        "    Returns:\n",
        "      inferred_grid: A copy of grid with some unknown values replaced.\n",
        "\n",
        "    Example:\n",
        "      >> grid = [\n",
        "      >>   [\"F\", \"U\", \"C\"],\n",
        "      >>   [\"S\", \"C\", \"U\"],\n",
        "      >>   [\"U\", \"U\", \"C\"]\n",
        "      >> ]\n",
        "      >> infer_unknown_values(grid)\n",
        "      >> [[\"F\" \"S\" \"C\"]\n",
        "      >>  [\"S\" \"C\" \"C\"]\n",
        "      >>  [\"U\" \"U\" \"C\"]]\n",
        "    \"\"\"\n",
        "    formula = True\n",
        "\n",
        "    for row in range(len(grid)):\n",
        "      for col in range(len(grid[0])):\n",
        "\n",
        "        neighbors = get_neighbors(grid, row, col)\n",
        "\n",
        "        c, s, f, u = sympy.symbols(f\"{row}_{col}_C {row}_{col}_S {row}_{col}_F {row}_{col}_U\")\n",
        "\n",
        "        fire = False\n",
        "        determined = True\n",
        "        smoke = True\n",
        "        clear = True\n",
        "        # maybe_fire = False\n",
        "\n",
        "        for r, cl in neighbors:\n",
        "          n_c, n_s, n_f, n_u = sympy.symbols(f\"{r}_{cl}_C {r}_{cl}_S {r}_{cl}_F {r}_{cl}_U\")\n",
        "          fire = fire | n_f\n",
        "          clear = clear & n_c\n",
        "          smoke = smoke & n_s\n",
        "          determined = determined & ~n_u\n",
        "          # maybe_fire = maybe_fire & (n_f | n_u)\n",
        "\n",
        "\n",
        "        # smoke here if and only if fire around\n",
        "        formula = formula & sympy.Implies(s, fire)\n",
        "        formula = formula & sympy.Implies(fire, s)\n",
        "        formula = formula & sympy.Implies(f, smoke)\n",
        "\n",
        "        # how to add clause \"none of your neighbors *can* be fire\"\n",
        "        # formula = formula & sympy.Implies(~smoke & ~maybe_fire, c)\n",
        "        formula = formula & sympy.Implies(determined & ~fire & ~smoke, c)\n",
        "        formula = formula & sympy.Implies(clear, c)\n",
        "\n",
        "\n",
        "        # record this cell is clear\n",
        "        if grid[row][col] == \"C\":\n",
        "          c, s, f, u = sympy.symbols(f\"{row}_{col}_C {row}_{col}_S {row}_{col}_F {row}_{col}_U\")\n",
        "          formula = formula & (c & ~s & ~f & ~u)\n",
        "\n",
        "        # record this cell has smoke\n",
        "        elif grid[row][col] == \"S\":\n",
        "          c, s, f, u = sympy.symbols(f\"{row}_{col}_C {row}_{col}_S {row}_{col}_F {row}_{col}_U\")\n",
        "          formula = formula & (~c & s & ~f & ~u)\n",
        "\n",
        "        # record this cell has fire\n",
        "        elif grid[row][col] == \"F\":\n",
        "          c, s, f, u = sympy.symbols(f\"{row}_{col}_C {row}_{col}_S {row}_{col}_F {row}_{col}_U\")\n",
        "          formula = formula & (~c & ~s & f & ~u)\n",
        "\n",
        "        elif grid[row][col] == \"U\":\n",
        "          formula = formula & ((c & ~s & ~f & ~u) | (~c & s & ~f & ~u) | (~c & ~s & f & ~u) | (~c & ~s & ~f & u))\n",
        "        # print(formula)\n",
        "\n",
        "    print(formula)\n",
        "    ans = sympy.satisfiable(formula)\n",
        "    if not ans:\n",
        "      return grid\n",
        "    new_grid = [[0 for _ in range(len(grid[0]))] for _ in range(len(grid))]\n",
        "    for row in range(len(grid)):\n",
        "      for col in range(len(grid[0])):\n",
        "        for letter in [\"F\", \"S\", \"C\", \"U\"]:\n",
        "          if ans[sympy.symbols(f\"{row}_{col}_{letter}\")]:\n",
        "            new_grid[row][col] = letter\n",
        "            break\n",
        "    print(new_grid)\n",
        "    return new_grid\n"
      ]
    },
    {
      "cell_type": "markdown",
      "id": "86897571",
      "metadata": {
        "id": "86897571"
      },
      "source": [
        "### Tests"
      ]
    },
    {
      "cell_type": "code",
      "execution_count": 38,
      "id": "82883f33",
      "metadata": {
        "id": "82883f33",
        "colab": {
          "base_uri": "https://localhost:8080/",
          "height": 396
        },
        "outputId": "d8bda28f-ce06-4e2c-9813-4468f7326adf"
      },
      "outputs": [
        {
          "output_type": "stream",
          "name": "stdout",
          "text": [
            "0_1_F & ~0_1_C & ~0_1_S & ~0_1_U & (Implies(0_0_C, 0_1_C)) & (Implies(0_0_F, 0_1_S)) & (Implies(0_0_S, 0_1_F)) & (Implies(0_1_C, 0_0_C)) & (Implies(0_1_F, 0_0_S)) & (Implies(0_1_S, 0_0_F)) & (Implies(~0_0_F & ~0_0_S & ~0_0_U, 0_1_C)) & (Implies(~0_1_F & ~0_1_S & ~0_1_U, 0_0_C)) & ((0_0_C & ~0_0_F & ~0_0_S & ~0_0_U) | (0_0_F & ~0_0_C & ~0_0_S & ~0_0_U) | (0_0_S & ~0_0_C & ~0_0_F & ~0_0_U) | (0_0_U & ~0_0_C & ~0_0_F & ~0_0_S))\n",
            "[['S', 'F']]\n",
            "0_0_F & 0_2_C & 1_0_S & 1_1_C & 2_2_C & ~0_0_C & ~0_0_S & ~0_0_U & ~0_2_F & ~0_2_S & ~0_2_U & ~1_0_C & ~1_0_F & ~1_0_U & ~1_1_F & ~1_1_S & ~1_1_U & ~2_2_F & ~2_2_S & ~2_2_U & (Implies(0_0_F, 0_1_S & 1_0_S)) & (Implies(0_0_S, 0_1_F | 1_0_F)) & (Implies(0_2_F, 0_1_S & 1_2_S)) & (Implies(0_2_S, 0_1_F | 1_2_F)) & (Implies(2_0_F, 1_0_S & 2_1_S)) & (Implies(2_0_S, 1_0_F | 2_1_F)) & (Implies(2_2_F, 1_2_S & 2_1_S)) & (Implies(2_2_S, 1_2_F | 2_1_F)) & (Implies(0_1_C & 1_0_C, 0_0_C)) & (Implies(0_1_C & 1_2_C, 0_2_C)) & (Implies(1_0_C & 2_1_C, 2_0_C)) & (Implies(1_2_C & 2_1_C, 2_2_C)) & (Implies(0_1_F | 1_0_F, 0_0_S)) & (Implies(0_1_F | 1_2_F, 0_2_S)) & (Implies(1_0_F | 2_1_F, 2_0_S)) & (Implies(1_2_F | 2_1_F, 2_2_S)) & (Implies(0_1_F, 0_0_S & 0_2_S & 1_1_S)) & (Implies(0_1_S, 0_0_F | 0_2_F | 1_1_F)) & (Implies(1_0_F, 0_0_S & 1_1_S & 2_0_S)) & (Implies(1_0_S, 0_0_F | 1_1_F | 2_0_F)) & (Implies(1_2_F, 0_2_S & 1_1_S & 2_2_S)) & (Implies(1_2_S, 0_2_F | 1_1_F | 2_2_F)) & (Implies(2_1_F, 1_1_S & 2_0_S & 2_2_S)) & (Implies(2_1_S, 1_1_F | 2_0_F | 2_2_F)) & (Implies(0_0_C & 0_2_C & 1_1_C, 0_1_C)) & (Implies(0_0_C & 1_1_C & 2_0_C, 1_0_C)) & (Implies(0_2_C & 1_1_C & 2_2_C, 1_2_C)) & (Implies(1_1_C & 2_0_C & 2_2_C, 2_1_C)) & (Implies(0_0_F | 0_2_F | 1_1_F, 0_1_S)) & (Implies(0_0_F | 1_1_F | 2_0_F, 1_0_S)) & (Implies(0_2_F | 1_1_F | 2_2_F, 1_2_S)) & (Implies(1_1_F | 2_0_F | 2_2_F, 2_1_S)) & (Implies(1_1_F, 0_1_S & 1_0_S & 1_2_S & 2_1_S)) & (Implies(1_1_S, 0_1_F | 1_0_F | 1_2_F | 2_1_F)) & (Implies(0_1_C & 1_0_C & 1_2_C & 2_1_C, 1_1_C)) & (Implies(0_1_F | 1_0_F | 1_2_F | 2_1_F, 1_1_S)) & (Implies(~0_1_U & ~1_0_U & ~(0_1_S & 1_0_S) & ~(0_1_F | 1_0_F), 0_0_C)) & (Implies(~0_1_U & ~1_2_U & ~(0_1_S & 1_2_S) & ~(0_1_F | 1_2_F), 0_2_C)) & (Implies(~1_0_U & ~2_1_U & ~(1_0_S & 2_1_S) & ~(1_0_F | 2_1_F), 2_0_C)) & (Implies(~1_2_U & ~2_1_U & ~(1_2_S & 2_1_S) & ~(1_2_F | 2_1_F), 2_2_C)) & (Implies(~0_0_U & ~0_2_U & ~1_1_U & ~(0_0_S & 0_2_S & 1_1_S) & ~(0_0_F | 0_2_F | 1_1_F), 0_1_C)) & (Implies(~0_0_U & ~1_1_U & ~2_0_U & ~(0_0_S & 1_1_S & 2_0_S) & ~(0_0_F | 1_1_F | 2_0_F), 1_0_C)) & (Implies(~0_2_U & ~1_1_U & ~2_2_U & ~(0_2_S & 1_1_S & 2_2_S) & ~(0_2_F | 1_1_F | 2_2_F), 1_2_C)) & (Implies(~1_1_U & ~2_0_U & ~2_2_U & ~(1_1_S & 2_0_S & 2_2_S) & ~(1_1_F | 2_0_F | 2_2_F), 2_1_C)) & (Implies(~0_1_U & ~1_0_U & ~1_2_U & ~2_1_U & ~(0_1_S & 1_0_S & 1_2_S & 2_1_S) & ~(0_1_F | 1_0_F | 1_2_F | 2_1_F), 1_1_C)) & ((0_1_C & ~0_1_F & ~0_1_S & ~0_1_U) | (0_1_F & ~0_1_C & ~0_1_S & ~0_1_U) | (0_1_S & ~0_1_C & ~0_1_F & ~0_1_U) | (0_1_U & ~0_1_C & ~0_1_F & ~0_1_S)) & ((1_2_C & ~1_2_F & ~1_2_S & ~1_2_U) | (1_2_F & ~1_2_C & ~1_2_S & ~1_2_U) | (1_2_S & ~1_2_C & ~1_2_F & ~1_2_U) | (1_2_U & ~1_2_C & ~1_2_F & ~1_2_S)) & ((2_0_C & ~2_0_F & ~2_0_S & ~2_0_U) | (2_0_F & ~2_0_C & ~2_0_S & ~2_0_U) | (2_0_S & ~2_0_C & ~2_0_F & ~2_0_U) | (2_0_U & ~2_0_C & ~2_0_F & ~2_0_S)) & ((2_1_C & ~2_1_F & ~2_1_S & ~2_1_U) | (2_1_F & ~2_1_C & ~2_1_S & ~2_1_U) | (2_1_S & ~2_1_C & ~2_1_F & ~2_1_U) | (2_1_U & ~2_1_C & ~2_1_F & ~2_1_S))\n",
            "[['F', 'S', 'C'], ['S', 'C', 'C'], ['U', 'U', 'C']]\n",
            "0_1_C & 0_2_C & 1_0_S & 1_1_C & 2_2_C & ~0_1_F & ~0_1_S & ~0_1_U & ~0_2_F & ~0_2_S & ~0_2_U & ~1_0_C & ~1_0_F & ~1_0_U & ~1_1_F & ~1_1_S & ~1_1_U & ~2_2_F & ~2_2_S & ~2_2_U & (Implies(0_0_F, 0_1_S & 1_0_S)) & (Implies(0_0_S, 0_1_F | 1_0_F)) & (Implies(0_2_F, 0_1_S & 1_2_S)) & (Implies(0_2_S, 0_1_F | 1_2_F)) & (Implies(2_0_F, 1_0_S & 2_1_S)) & (Implies(2_0_S, 1_0_F | 2_1_F)) & (Implies(2_2_F, 1_2_S & 2_1_S)) & (Implies(2_2_S, 1_2_F | 2_1_F)) & (Implies(0_1_C & 1_0_C, 0_0_C)) & (Implies(0_1_C & 1_2_C, 0_2_C)) & (Implies(1_0_C & 2_1_C, 2_0_C)) & (Implies(1_2_C & 2_1_C, 2_2_C)) & (Implies(0_1_F | 1_0_F, 0_0_S)) & (Implies(0_1_F | 1_2_F, 0_2_S)) & (Implies(1_0_F | 2_1_F, 2_0_S)) & (Implies(1_2_F | 2_1_F, 2_2_S)) & (Implies(0_1_F, 0_0_S & 0_2_S & 1_1_S)) & (Implies(0_1_S, 0_0_F | 0_2_F | 1_1_F)) & (Implies(1_0_F, 0_0_S & 1_1_S & 2_0_S)) & (Implies(1_0_S, 0_0_F | 1_1_F | 2_0_F)) & (Implies(1_2_F, 0_2_S & 1_1_S & 2_2_S)) & (Implies(1_2_S, 0_2_F | 1_1_F | 2_2_F)) & (Implies(2_1_F, 1_1_S & 2_0_S & 2_2_S)) & (Implies(2_1_S, 1_1_F | 2_0_F | 2_2_F)) & (Implies(0_0_C & 0_2_C & 1_1_C, 0_1_C)) & (Implies(0_0_C & 1_1_C & 2_0_C, 1_0_C)) & (Implies(0_2_C & 1_1_C & 2_2_C, 1_2_C)) & (Implies(1_1_C & 2_0_C & 2_2_C, 2_1_C)) & (Implies(0_0_F | 0_2_F | 1_1_F, 0_1_S)) & (Implies(0_0_F | 1_1_F | 2_0_F, 1_0_S)) & (Implies(0_2_F | 1_1_F | 2_2_F, 1_2_S)) & (Implies(1_1_F | 2_0_F | 2_2_F, 2_1_S)) & (Implies(1_1_F, 0_1_S & 1_0_S & 1_2_S & 2_1_S)) & (Implies(1_1_S, 0_1_F | 1_0_F | 1_2_F | 2_1_F)) & (Implies(0_1_C & 1_0_C & 1_2_C & 2_1_C, 1_1_C)) & (Implies(0_1_F | 1_0_F | 1_2_F | 2_1_F, 1_1_S)) & (Implies(~0_1_U & ~1_0_U & ~(0_1_S & 1_0_S) & ~(0_1_F | 1_0_F), 0_0_C)) & (Implies(~0_1_U & ~1_2_U & ~(0_1_S & 1_2_S) & ~(0_1_F | 1_2_F), 0_2_C)) & (Implies(~1_0_U & ~2_1_U & ~(1_0_S & 2_1_S) & ~(1_0_F | 2_1_F), 2_0_C)) & (Implies(~1_2_U & ~2_1_U & ~(1_2_S & 2_1_S) & ~(1_2_F | 2_1_F), 2_2_C)) & (Implies(~0_0_U & ~0_2_U & ~1_1_U & ~(0_0_S & 0_2_S & 1_1_S) & ~(0_0_F | 0_2_F | 1_1_F), 0_1_C)) & (Implies(~0_0_U & ~1_1_U & ~2_0_U & ~(0_0_S & 1_1_S & 2_0_S) & ~(0_0_F | 1_1_F | 2_0_F), 1_0_C)) & (Implies(~0_2_U & ~1_1_U & ~2_2_U & ~(0_2_S & 1_1_S & 2_2_S) & ~(0_2_F | 1_1_F | 2_2_F), 1_2_C)) & (Implies(~1_1_U & ~2_0_U & ~2_2_U & ~(1_1_S & 2_0_S & 2_2_S) & ~(1_1_F | 2_0_F | 2_2_F), 2_1_C)) & (Implies(~0_1_U & ~1_0_U & ~1_2_U & ~2_1_U & ~(0_1_S & 1_0_S & 1_2_S & 2_1_S) & ~(0_1_F | 1_0_F | 1_2_F | 2_1_F), 1_1_C)) & ((0_0_C & ~0_0_F & ~0_0_S & ~0_0_U) | (0_0_F & ~0_0_C & ~0_0_S & ~0_0_U) | (0_0_S & ~0_0_C & ~0_0_F & ~0_0_U) | (0_0_U & ~0_0_C & ~0_0_F & ~0_0_S)) & ((1_2_C & ~1_2_F & ~1_2_S & ~1_2_U) | (1_2_F & ~1_2_C & ~1_2_S & ~1_2_U) | (1_2_S & ~1_2_C & ~1_2_F & ~1_2_U) | (1_2_U & ~1_2_C & ~1_2_F & ~1_2_S)) & ((2_0_C & ~2_0_F & ~2_0_S & ~2_0_U) | (2_0_F & ~2_0_C & ~2_0_S & ~2_0_U) | (2_0_S & ~2_0_C & ~2_0_F & ~2_0_U) | (2_0_U & ~2_0_C & ~2_0_F & ~2_0_S)) & ((2_1_C & ~2_1_F & ~2_1_S & ~2_1_U) | (2_1_F & ~2_1_C & ~2_1_S & ~2_1_U) | (2_1_S & ~2_1_C & ~2_1_F & ~2_1_U) | (2_1_U & ~2_1_C & ~2_1_F & ~2_1_S))\n",
            "[['C', 'C', 'C'], ['S', 'C', 'C'], ['F', 'S', 'C']]\n",
            "0_1_S & 0_2_C & 1_2_C & 2_1_S & 2_2_C & ~0_1_C & ~0_1_F & ~0_1_U & ~0_2_F & ~0_2_S & ~0_2_U & ~1_2_F & ~1_2_S & ~1_2_U & ~2_1_C & ~2_1_F & ~2_1_U & ~2_2_F & ~2_2_S & ~2_2_U & (Implies(0_0_F, 0_1_S & 1_0_S)) & (Implies(0_0_S, 0_1_F | 1_0_F)) & (Implies(0_3_F, 0_2_S & 1_3_S)) & (Implies(0_3_S, 0_2_F | 1_3_F)) & (Implies(2_0_F, 1_0_S & 2_1_S)) & (Implies(2_0_S, 1_0_F | 2_1_F)) & (Implies(2_3_F, 1_3_S & 2_2_S)) & (Implies(2_3_S, 1_3_F | 2_2_F)) & (Implies(0_1_C & 1_0_C, 0_0_C)) & (Implies(0_2_C & 1_3_C, 0_3_C)) & (Implies(1_0_C & 2_1_C, 2_0_C)) & (Implies(1_3_C & 2_2_C, 2_3_C)) & (Implies(0_1_F | 1_0_F, 0_0_S)) & (Implies(0_2_F | 1_3_F, 0_3_S)) & (Implies(1_0_F | 2_1_F, 2_0_S)) & (Implies(1_3_F | 2_2_F, 2_3_S)) & (Implies(0_1_F, 0_0_S & 0_2_S & 1_1_S)) & (Implies(0_1_S, 0_0_F | 0_2_F | 1_1_F)) & (Implies(0_2_F, 0_1_S & 0_3_S & 1_2_S)) & (Implies(0_2_S, 0_1_F | 0_3_F | 1_2_F)) & (Implies(1_0_F, 0_0_S & 1_1_S & 2_0_S)) & (Implies(1_0_S, 0_0_F | 1_1_F | 2_0_F)) & (Implies(1_3_F, 0_3_S & 1_2_S & 2_3_S)) & (Implies(1_3_S, 0_3_F | 1_2_F | 2_3_F)) & (Implies(2_1_F, 1_1_S & 2_0_S & 2_2_S)) & (Implies(2_1_S, 1_1_F | 2_0_F | 2_2_F)) & (Implies(2_2_F, 1_2_S & 2_1_S & 2_3_S)) & (Implies(2_2_S, 1_2_F | 2_1_F | 2_3_F)) & (Implies(0_0_C & 0_2_C & 1_1_C, 0_1_C)) & (Implies(0_0_C & 1_1_C & 2_0_C, 1_0_C)) & (Implies(0_1_C & 0_3_C & 1_2_C, 0_2_C)) & (Implies(0_3_C & 1_2_C & 2_3_C, 1_3_C)) & (Implies(1_1_C & 2_0_C & 2_2_C, 2_1_C)) & (Implies(1_2_C & 2_1_C & 2_3_C, 2_2_C)) & (Implies(0_0_F | 0_2_F | 1_1_F, 0_1_S)) & (Implies(0_0_F | 1_1_F | 2_0_F, 1_0_S)) & (Implies(0_1_F | 0_3_F | 1_2_F, 0_2_S)) & (Implies(0_3_F | 1_2_F | 2_3_F, 1_3_S)) & (Implies(1_1_F | 2_0_F | 2_2_F, 2_1_S)) & (Implies(1_2_F | 2_1_F | 2_3_F, 2_2_S)) & (Implies(1_1_F, 0_1_S & 1_0_S & 1_2_S & 2_1_S)) & (Implies(1_1_S, 0_1_F | 1_0_F | 1_2_F | 2_1_F)) & (Implies(1_2_F, 0_2_S & 1_1_S & 1_3_S & 2_2_S)) & (Implies(1_2_S, 0_2_F | 1_1_F | 1_3_F | 2_2_F)) & (Implies(0_1_C & 1_0_C & 1_2_C & 2_1_C, 1_1_C)) & (Implies(0_2_C & 1_1_C & 1_3_C & 2_2_C, 1_2_C)) & (Implies(0_1_F | 1_0_F | 1_2_F | 2_1_F, 1_1_S)) & (Implies(0_2_F | 1_1_F | 1_3_F | 2_2_F, 1_2_S)) & (Implies(~0_1_U & ~1_0_U & ~(0_1_S & 1_0_S) & ~(0_1_F | 1_0_F), 0_0_C)) & (Implies(~0_2_U & ~1_3_U & ~(0_2_S & 1_3_S) & ~(0_2_F | 1_3_F), 0_3_C)) & (Implies(~1_0_U & ~2_1_U & ~(1_0_S & 2_1_S) & ~(1_0_F | 2_1_F), 2_0_C)) & (Implies(~1_3_U & ~2_2_U & ~(1_3_S & 2_2_S) & ~(1_3_F | 2_2_F), 2_3_C)) & (Implies(~0_0_U & ~0_2_U & ~1_1_U & ~(0_0_S & 0_2_S & 1_1_S) & ~(0_0_F | 0_2_F | 1_1_F), 0_1_C)) & (Implies(~0_0_U & ~1_1_U & ~2_0_U & ~(0_0_S & 1_1_S & 2_0_S) & ~(0_0_F | 1_1_F | 2_0_F), 1_0_C)) & (Implies(~0_1_U & ~0_3_U & ~1_2_U & ~(0_1_S & 0_3_S & 1_2_S) & ~(0_1_F | 0_3_F | 1_2_F), 0_2_C)) & (Implies(~0_3_U & ~1_2_U & ~2_3_U & ~(0_3_S & 1_2_S & 2_3_S) & ~(0_3_F | 1_2_F | 2_3_F), 1_3_C)) & (Implies(~1_1_U & ~2_0_U & ~2_2_U & ~(1_1_S & 2_0_S & 2_2_S) & ~(1_1_F | 2_0_F | 2_2_F), 2_1_C)) & (Implies(~1_2_U & ~2_1_U & ~2_3_U & ~(1_2_S & 2_1_S & 2_3_S) & ~(1_2_F | 2_1_F | 2_3_F), 2_2_C)) & (Implies(~0_1_U & ~1_0_U & ~1_2_U & ~2_1_U & ~(0_1_S & 1_0_S & 1_2_S & 2_1_S) & ~(0_1_F | 1_0_F | 1_2_F | 2_1_F), 1_1_C)) & (Implies(~0_2_U & ~1_1_U & ~1_3_U & ~2_2_U & ~(0_2_S & 1_1_S & 1_3_S & 2_2_S) & ~(0_2_F | 1_1_F | 1_3_F | 2_2_F), 1_2_C)) & ((0_0_C & ~0_0_F & ~0_0_S & ~0_0_U) | (0_0_F & ~0_0_C & ~0_0_S & ~0_0_U) | (0_0_S & ~0_0_C & ~0_0_F & ~0_0_U) | (0_0_U & ~0_0_C & ~0_0_F & ~0_0_S)) & ((0_3_C & ~0_3_F & ~0_3_S & ~0_3_U) | (0_3_F & ~0_3_C & ~0_3_S & ~0_3_U) | (0_3_S & ~0_3_C & ~0_3_F & ~0_3_U) | (0_3_U & ~0_3_C & ~0_3_F & ~0_3_S)) & ((1_0_C & ~1_0_F & ~1_0_S & ~1_0_U) | (1_0_F & ~1_0_C & ~1_0_S & ~1_0_U) | (1_0_S & ~1_0_C & ~1_0_F & ~1_0_U) | (1_0_U & ~1_0_C & ~1_0_F & ~1_0_S)) & ((1_1_C & ~1_1_F & ~1_1_S & ~1_1_U) | (1_1_F & ~1_1_C & ~1_1_S & ~1_1_U) | (1_1_S & ~1_1_C & ~1_1_F & ~1_1_U) | (1_1_U & ~1_1_C & ~1_1_F & ~1_1_S)) & ((1_3_C & ~1_3_F & ~1_3_S & ~1_3_U) | (1_3_F & ~1_3_C & ~1_3_S & ~1_3_U) | (1_3_S & ~1_3_C & ~1_3_F & ~1_3_U) | (1_3_U & ~1_3_C & ~1_3_F & ~1_3_S)) & ((2_0_C & ~2_0_F & ~2_0_S & ~2_0_U) | (2_0_F & ~2_0_C & ~2_0_S & ~2_0_U) | (2_0_S & ~2_0_C & ~2_0_F & ~2_0_U) | (2_0_U & ~2_0_C & ~2_0_F & ~2_0_S)) & ((2_3_C & ~2_3_F & ~2_3_S & ~2_3_U) | (2_3_F & ~2_3_C & ~2_3_S & ~2_3_U) | (2_3_S & ~2_3_C & ~2_3_F & ~2_3_U) | (2_3_U & ~2_3_C & ~2_3_F & ~2_3_S))\n",
            "[['F', 'S', 'C', 'U'], ['S', 'C', 'C', 'U'], ['F', 'S', 'C', 'U']]\n"
          ]
        },
        {
          "output_type": "error",
          "ename": "AssertionError",
          "evalue": "",
          "traceback": [
            "\u001b[0;31m---------------------------------------------------------------------------\u001b[0m",
            "\u001b[0;31mAssertionError\u001b[0m                            Traceback (most recent call last)",
            "\u001b[0;32m<ipython-input-38-d64cf24569c3>\u001b[0m in \u001b[0;36m<cell line: 0>\u001b[0;34m()\u001b[0m\n\u001b[1;32m      8\u001b[0m \u001b[0;34m\u001b[0m\u001b[0m\n\u001b[1;32m      9\u001b[0m \u001b[0;34m\u001b[0m\u001b[0m\n\u001b[0;32m---> 10\u001b[0;31m \u001b[0;32massert\u001b[0m \u001b[0minfer_unknown_values\u001b[0m\u001b[0;34m(\u001b[0m\u001b[0;34m[\u001b[0m\u001b[0;34m[\u001b[0m\u001b[0;34m\"U\"\u001b[0m\u001b[0;34m,\u001b[0m \u001b[0;34m\"S\"\u001b[0m\u001b[0;34m,\u001b[0m \u001b[0;34m\"C\"\u001b[0m\u001b[0;34m,\u001b[0m \u001b[0;34m\"U\"\u001b[0m\u001b[0;34m]\u001b[0m\u001b[0;34m,\u001b[0m \u001b[0;34m[\u001b[0m\u001b[0;34m\"U\"\u001b[0m\u001b[0;34m,\u001b[0m \u001b[0;34m\"U\"\u001b[0m\u001b[0;34m,\u001b[0m \u001b[0;34m\"C\"\u001b[0m\u001b[0;34m,\u001b[0m \u001b[0;34m\"U\"\u001b[0m\u001b[0;34m]\u001b[0m\u001b[0;34m,\u001b[0m \u001b[0;34m[\u001b[0m\u001b[0;34m\"U\"\u001b[0m\u001b[0;34m,\u001b[0m \u001b[0;34m\"S\"\u001b[0m\u001b[0;34m,\u001b[0m \u001b[0;34m\"C\"\u001b[0m\u001b[0;34m,\u001b[0m \u001b[0;34m\"U\"\u001b[0m\u001b[0;34m]\u001b[0m\u001b[0;34m]\u001b[0m\u001b[0;34m)\u001b[0m \u001b[0;34m==\u001b[0m \u001b[0;34m[\u001b[0m\u001b[0;34m[\u001b[0m\u001b[0;34m\"F\"\u001b[0m\u001b[0;34m,\u001b[0m \u001b[0;34m\"S\"\u001b[0m\u001b[0;34m,\u001b[0m \u001b[0;34m\"C\"\u001b[0m\u001b[0;34m,\u001b[0m \u001b[0;34m\"C\"\u001b[0m\u001b[0;34m]\u001b[0m\u001b[0;34m,\u001b[0m \u001b[0;34m[\u001b[0m\u001b[0;34m\"S\"\u001b[0m\u001b[0;34m,\u001b[0m \u001b[0;34m\"C\"\u001b[0m\u001b[0;34m,\u001b[0m \u001b[0;34m\"C\"\u001b[0m\u001b[0;34m,\u001b[0m \u001b[0;34m\"C\"\u001b[0m\u001b[0;34m]\u001b[0m\u001b[0;34m,\u001b[0m \u001b[0;34m[\u001b[0m\u001b[0;34m\"F\"\u001b[0m\u001b[0;34m,\u001b[0m \u001b[0;34m\"S\"\u001b[0m\u001b[0;34m,\u001b[0m \u001b[0;34m\"C\"\u001b[0m\u001b[0;34m,\u001b[0m \u001b[0;34m\"C\"\u001b[0m\u001b[0;34m]\u001b[0m\u001b[0;34m]\u001b[0m\u001b[0;34m\u001b[0m\u001b[0;34m\u001b[0m\u001b[0m\n\u001b[0m\u001b[1;32m     11\u001b[0m \u001b[0;34m\u001b[0m\u001b[0m\n\u001b[1;32m     12\u001b[0m \u001b[0;34m\u001b[0m\u001b[0m\n",
            "\u001b[0;31mAssertionError\u001b[0m: "
          ]
        }
      ],
      "source": [
        "\n",
        "assert infer_unknown_values([[\"U\", \"F\"]]) == [[\"S\", \"F\"]]\n",
        "\n",
        "\n",
        "assert infer_unknown_values([[\"F\", \"U\", \"C\"], [\"S\", \"C\", \"U\"], [\"U\", \"U\", \"C\"]]) == [[\"F\", \"S\", \"C\"], [\"S\", \"C\", \"C\"], [\"U\", \"U\", \"C\"]]\n",
        "\n",
        "\n",
        "assert infer_unknown_values([[\"U\", \"C\", \"C\"], [\"S\", \"C\", \"U\"], [\"U\", \"U\", \"C\"]]) == [[\"C\", \"C\", \"C\"], [\"S\", \"C\", \"C\"], [\"F\", \"S\", \"C\"]]\n",
        "\n",
        "\n",
        "assert infer_unknown_values([[\"U\", \"S\", \"C\", \"U\"], [\"U\", \"U\", \"C\", \"U\"], [\"U\", \"S\", \"C\", \"U\"]]) == [[\"F\", \"S\", \"C\", \"C\"], [\"S\", \"C\", \"C\", \"C\"], [\"F\", \"S\", \"C\", \"C\"]]\n",
        "\n",
        "\n",
        "assert infer_unknown_values([[\"U\", \"U\", \"C\", \"U\", \"U\", \"U\", \"U\", \"U\"], [\"C\", \"U\", \"U\", \"U\", \"U\", \"U\", \"U\", \"U\"], [\"U\", \"U\", \"U\", \"U\", \"U\", \"U\", \"U\", \"U\"], [\"U\", \"U\", \"U\", \"U\", \"U\", \"U\", \"C\", \"C\"], [\"U\", \"U\", \"U\", \"U\", \"U\", \"U\", \"C\", \"C\"], [\"U\", \"C\", \"U\", \"U\", \"U\", \"U\", \"U\", \"U\"], [\"U\", \"U\", \"U\", \"F\", \"U\", \"U\", \"U\", \"U\"], [\"U\", \"U\", \"U\", \"U\", \"U\", \"U\", \"U\", \"U\"]]) == [[\"C\", \"C\", \"C\", \"U\", \"U\", \"U\", \"U\", \"U\"], [\"C\", \"U\", \"U\", \"U\", \"U\", \"U\", \"U\", \"U\"], [\"U\", \"U\", \"U\", \"U\", \"U\", \"U\", \"U\", \"U\"], [\"U\", \"U\", \"U\", \"U\", \"U\", \"U\", \"C\", \"C\"], [\"U\", \"U\", \"U\", \"U\", \"U\", \"U\", \"C\", \"C\"], [\"U\", \"C\", \"U\", \"S\", \"U\", \"U\", \"U\", \"U\"], [\"U\", \"U\", \"S\", \"F\", \"S\", \"U\", \"U\", \"U\"], [\"U\", \"U\", \"U\", \"S\", \"U\", \"U\", \"U\", \"U\"]]\n",
        "print('Tests passed.')"
      ]
    },
    {
      "cell_type": "code",
      "source": [],
      "metadata": {
        "id": "KNhytnk6XAPg"
      },
      "id": "KNhytnk6XAPg",
      "execution_count": null,
      "outputs": []
    }
  ],
  "metadata": {
    "colab": {
      "name": "hw04_prop.ipynb",
      "provenance": []
    },
    "kernelspec": {
      "display_name": "Python 3",
      "name": "python3"
    },
    "language_info": {
      "name": "python"
    }
  },
  "nbformat": 4,
  "nbformat_minor": 5
}