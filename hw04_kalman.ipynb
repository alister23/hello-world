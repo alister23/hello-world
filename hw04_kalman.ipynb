{
  "cells": [
    {
      "cell_type": "markdown",
      "id": "6066ad41",
      "metadata": {
        "id": "6066ad41"
      },
      "source": [
        "# Homework 4 (Kalman Filters)"
      ]
    },
    {
      "cell_type": "code",
      "execution_count": 1,
      "id": "a29cadba",
      "metadata": {
        "id": "a29cadba"
      },
      "outputs": [],
      "source": [
        "# Setup matplotlib animation\n",
        "import matplotlib\n",
        "matplotlib.rc('animation', html='jshtml')"
      ]
    },
    {
      "cell_type": "markdown",
      "id": "3457e96b",
      "metadata": {
        "id": "3457e96b"
      },
      "source": [
        "## Imports and Utilities\n",
        "**Note**: these imports and functions are available in catsoop. You do not need to copy them in."
      ]
    },
    {
      "cell_type": "code",
      "execution_count": 2,
      "id": "f475cd59",
      "metadata": {
        "id": "f475cd59"
      },
      "outputs": [],
      "source": [
        "from typing import Callable, Sequence, List\n",
        "\n",
        "from collections import namedtuple\n",
        "import numpy as np\n",
        "import dataclasses\n",
        "\n",
        "\n",
        "@dataclasses.dataclass(frozen=True)\n",
        "class Gaussian:\n",
        "    mean: float  # Mean of a Gaussian distribution\n",
        "    var: float  # Variance of a Gaussian distribution\n",
        "\n",
        "\n",
        "class Simulator_1d:\n",
        "    \"\"\"A simulator for a robot moving in 1D.\n",
        "\n",
        "    The simulator simulates the motion and sensor noises of the robot by sampling from 1D Gaussians.\n",
        "    \"\"\"\n",
        "\n",
        "    def __init__(self,\n",
        "                 init_state: float = 0.0,\n",
        "                 process_var: float = 0.0,\n",
        "                 measurement_var: float = 0.0,\n",
        "                 seed: int = 0):\n",
        "        # Initial simulator state\n",
        "        self.init_state = init_state\n",
        "        self.process_std = np.sqrt(process_var)\n",
        "        self.measurement_std = np.sqrt(measurement_var)\n",
        "        self.rng = np.random.default_rng(seed)\n",
        "\n",
        "        self.state = self.init_state\n",
        "\n",
        "    def simulate_motion(self, u: float):\n",
        "        \"\"\"Simulate robot motion. This function updates the value of\n",
        "        self.state.\n",
        "        \"\"\"\n",
        "        motion_noise = self.rng.normal(0, self.process_std)\n",
        "        self.state = self.state + u + motion_noise\n",
        "\n",
        "    def simulate_sensing(self) -> float:\n",
        "        \"\"\"Simulate the robot sensing process. Returns a measurement of the robot's current location.\n",
        "            Measurement is based on the current location, with a Gaussian noise added.\n",
        "\n",
        "        Returns:\n",
        "            measurement: a scalar representing the measurement of robot's location.\n",
        "        \"\"\"\n",
        "        sensor_noise = self.rng.normal(0, self.measurement_std)\n",
        "        return self.state + sensor_noise\n",
        "\n",
        "    def simulate_step(self, control: float, return_gt_loc: bool = False):\n",
        "        \"\"\"\n",
        "            Run the simulation for one step with given control input, and returns the sensing result.\n",
        "        \"\"\"\n",
        "        self.simulate_motion(control)\n",
        "        if return_gt_loc:\n",
        "            return self.simulate_sensing(), self.state\n",
        "        return self.simulate_sensing()\n",
        "\n",
        "\n",
        "\n"
      ]
    },
    {
      "cell_type": "markdown",
      "id": "60be03e4",
      "metadata": {
        "id": "60be03e4"
      },
      "source": [
        "## Kalman Filter Warmup\n"
      ]
    },
    {
      "cell_type": "markdown",
      "id": "e4f552c7",
      "metadata": {
        "id": "e4f552c7"
      },
      "source": [
        "### Question\n",
        "Return an `Gaussian` object with mean=0, std=2.\n",
        "    Please see the provided code for the definition of `Gaussian`.\n",
        "\n",
        "For reference, our solution is **1** line(s) of code."
      ]
    },
    {
      "cell_type": "code",
      "execution_count": 5,
      "id": "a647245f",
      "metadata": {
        "id": "a647245f"
      },
      "outputs": [],
      "source": [
        "def kf_warmup() -> Gaussian:\n",
        "    \"\"\"Return an `Gaussian` object with mean=0, std=2.\n",
        "    \"\"\"\n",
        "    return Gaussian(0,4)"
      ]
    },
    {
      "cell_type": "markdown",
      "id": "ffb03fec",
      "metadata": {
        "id": "ffb03fec"
      },
      "source": [
        "### Tests"
      ]
    },
    {
      "cell_type": "code",
      "execution_count": 6,
      "id": "74c59e8c",
      "metadata": {
        "id": "74c59e8c",
        "outputId": "ca0f94eb-dd13-498c-9e9d-e4988d81d136",
        "colab": {
          "base_uri": "https://localhost:8080/"
        }
      },
      "outputs": [
        {
          "output_type": "stream",
          "name": "stdout",
          "text": [
            "Tests passed.\n"
          ]
        }
      ],
      "source": [
        "def kf_warmup_test():\n",
        "    dist = kf_warmup()\n",
        "    assert dist.mean == 0\n",
        "    assert dist.var == 4\n",
        "\n",
        "kf_warmup_test()\n",
        "\n",
        "print('Tests passed.')"
      ]
    },
    {
      "cell_type": "markdown",
      "id": "5ea138a6",
      "metadata": {
        "id": "5ea138a6"
      },
      "source": [
        "## Kalman filter process model\n"
      ]
    },
    {
      "cell_type": "markdown",
      "id": "10467dac",
      "metadata": {
        "id": "10467dac"
      },
      "source": [
        "### Question\n",
        "Implement the process step of a 1D Kalman filter, given a Gaussian prior distribution,\n",
        "  a process model $a$, $\\sigma^2_w$, and a control $u$.\n",
        "\n",
        "For reference, our solution is **4** line(s) of code."
      ]
    },
    {
      "cell_type": "code",
      "execution_count": 7,
      "id": "86d10935",
      "metadata": {
        "id": "86d10935"
      },
      "outputs": [],
      "source": [
        "def kf_process(state_prior: Gaussian, a: float, square_sigma_w: float,\n",
        "               u: float) -> Gaussian:\n",
        "    \"\"\"Implement the process step of a 1D Kalman filter.\n",
        "    Given a Gaussian prior distribution, a process model $a$, $\\sigma^2_w$, and a control $u$.\n",
        "\n",
        "    Returns:\n",
        "        an updated Gaussian.\n",
        "    \"\"\"\n",
        "    return Gaussian(a*state_prior.mean+u, a**2*state_prior.var+square_sigma_w)"
      ]
    },
    {
      "cell_type": "markdown",
      "id": "ff51f827",
      "metadata": {
        "id": "ff51f827"
      },
      "source": [
        "### Tests"
      ]
    },
    {
      "cell_type": "code",
      "execution_count": 8,
      "id": "8e7d38e2",
      "metadata": {
        "id": "8e7d38e2",
        "outputId": "dace8384-b56b-429b-d409-09eae5470e11",
        "colab": {
          "base_uri": "https://localhost:8080/"
        }
      },
      "outputs": [
        {
          "output_type": "stream",
          "name": "stdout",
          "text": [
            "Tests passed.\n"
          ]
        }
      ],
      "source": [
        "def kf_process_test1():\n",
        "    state_prior = Gaussian(4, 4)\n",
        "    pred_state = kf_process(state_prior, 2, 2, 0)\n",
        "    assert np.allclose([pred_state.mean, pred_state.var], [8, 18], atol=1e-4)\n",
        "\n",
        "kf_process_test1()\n",
        "\n",
        "\n",
        "def kf_process_test2():\n",
        "    state_prior = Gaussian(4, 1)\n",
        "    pred_state = kf_process(state_prior, 1, 1, 1)\n",
        "    assert np.allclose([pred_state.mean, pred_state.var], [5, 2], atol=1e-4)\n",
        "\n",
        "kf_process_test2()\n",
        "\n",
        "print('Tests passed.')"
      ]
    },
    {
      "cell_type": "markdown",
      "id": "3c42ede5",
      "metadata": {
        "id": "3c42ede5"
      },
      "source": [
        "## Kalman filter measurement model\n"
      ]
    },
    {
      "cell_type": "markdown",
      "id": "6215e10a",
      "metadata": {
        "id": "6215e10a"
      },
      "source": [
        "### Question\n",
        "Implement the measurement step of a 1D Kalman filter, given a prior mean and variance,\n",
        "  a measurement model $h$, $\\sigma^2_v$, and a received measurement $y$.  \n",
        "\n",
        "For reference, our solution is **18** line(s) of code."
      ]
    },
    {
      "cell_type": "code",
      "execution_count": null,
      "id": "fe1550f0",
      "metadata": {
        "id": "fe1550f0"
      },
      "outputs": [],
      "source": [
        "def kf_measurement(pred_state: Gaussian, h: float, square_sigma_v: float,\n",
        "                   y: float) -> Gaussian:\n",
        "    \"\"\"Implement the measurement step of a 1D Kalman filter, given a prior mean and variance,\n",
        "        a measurement model $h$, $\\sigma^2_v$, and a received measurement $y$.\n",
        "\n",
        "    Returns:\n",
        "        an updated Gaussian given the measurement.\n",
        "    \"\"\"\n",
        "    raise NotImplementedError(\"Implement me!\")"
      ]
    },
    {
      "cell_type": "markdown",
      "id": "2f861e4c",
      "metadata": {
        "id": "2f861e4c"
      },
      "source": [
        "### Tests"
      ]
    },
    {
      "cell_type": "code",
      "execution_count": null,
      "id": "5305c27e",
      "metadata": {
        "id": "5305c27e"
      },
      "outputs": [],
      "source": [
        "def kf_measurement_test1():\n",
        "    state = Gaussian(5, 2)\n",
        "    state_posterior = kf_measurement(state, 1, 1, 5)\n",
        "    assert np.allclose([state_posterior.mean, state_posterior.var],\n",
        "                       [5., 0.6667],\n",
        "                       atol=1e-4)\n",
        "\n",
        "kf_measurement_test1()\n",
        "\n",
        "\n",
        "def kf_measurement_test2():\n",
        "    state = Gaussian(5, 2)\n",
        "    state_posterior = kf_measurement(state, 1, 1, 10)\n",
        "    assert np.allclose([state_posterior.mean, state_posterior.var],\n",
        "                       [8.3334, 0.6667],\n",
        "                       atol=1e-4)\n",
        "\n",
        "kf_measurement_test2()\n",
        "\n",
        "print('Tests passed.')"
      ]
    },
    {
      "cell_type": "markdown",
      "id": "8c7250c1",
      "metadata": {
        "id": "8c7250c1"
      },
      "source": [
        "## Kalman filter\n"
      ]
    },
    {
      "cell_type": "markdown",
      "id": "b6da7bc7",
      "metadata": {
        "id": "b6da7bc7"
      },
      "source": [
        "### Question\n",
        "Combine the process and measurement steps into a single estimator that takes a prior,\n",
        "a process model, a measurement model, a list of controls, measurements, and returns a posterior.\n",
        "\n",
        "For reference, our solution is **9** line(s) of code.\n",
        "\n",
        "In addition to all the utilities defined at the top of the Colab notebook, the following functions are available in this question environment: `kf_measurement`, `kf_process`. You may not need to use all of them."
      ]
    },
    {
      "cell_type": "code",
      "execution_count": null,
      "id": "cdc9109c",
      "metadata": {
        "id": "cdc9109c"
      },
      "outputs": [],
      "source": [
        "def kf(state_prior: Gaussian, a: float, square_sigma_w: float, h: float,\n",
        "       square_sigma_v: float, controls: Sequence[float],\n",
        "       measurements: Sequence[float]) -> Gaussian:\n",
        "    \"\"\"Combine the process and measurement steps into a single estimator that takes a prior,\n",
        "        a process model, a measurement model, a list of controls, measurements, and returns a posterior.\n",
        "    \"\"\"\n",
        "    raise NotImplementedError(\"Implement me!\")"
      ]
    },
    {
      "cell_type": "markdown",
      "id": "79a6b306",
      "metadata": {
        "id": "79a6b306"
      },
      "source": [
        "### Tests"
      ]
    },
    {
      "cell_type": "code",
      "execution_count": null,
      "id": "cd761310",
      "metadata": {
        "id": "cd761310"
      },
      "outputs": [],
      "source": [
        "def kf_test1():\n",
        "    state_init = Gaussian(0, 40)\n",
        "    a = 1.\n",
        "    h = 1.\n",
        "    square_sigma_w = 1.\n",
        "    square_sigma_v = 2.\n",
        "\n",
        "    simulator = Simulator_1d(process_var=square_sigma_w,\n",
        "                             measurement_var=square_sigma_v)\n",
        "    controls = [1.0 for _ in range(10)]\n",
        "    measurements = [simulator.simulate_step(u) for u in controls]\n",
        "\n",
        "    state = kf(state_init, a, square_sigma_w, h, square_sigma_v, controls,\n",
        "               measurements)\n",
        "    assert np.allclose([state.mean, state.var], [7.2195, 1.000], atol=1e-4)\n",
        "\n",
        "kf_test1()\n",
        "\n",
        "\n",
        "def kf_test2():\n",
        "    state_init = Gaussian(0, 400)\n",
        "    a = 1.\n",
        "    h = 1.\n",
        "    square_sigma_w = 4.\n",
        "    square_sigma_v = 1.\n",
        "\n",
        "    simulator = Simulator_1d(process_var=square_sigma_w,\n",
        "                             measurement_var=square_sigma_v)\n",
        "    controls = [2. for _ in range(40)]\n",
        "    measurements = [simulator.simulate_step(u) for u in controls]\n",
        "\n",
        "    state = kf(state_init, a, square_sigma_w, h, square_sigma_v, controls,\n",
        "               measurements)\n",
        "    assert np.allclose([state.mean, state.var], [87.0068, 0.8284], atol=1e-4)\n",
        "\n",
        "kf_test2()\n",
        "\n",
        "print('Tests passed.')"
      ]
    },
    {
      "cell_type": "markdown",
      "id": "bbc52f96",
      "metadata": {
        "id": "bbc52f96"
      },
      "source": [
        "## Kalman Filter Visualization\n"
      ]
    },
    {
      "cell_type": "markdown",
      "id": "e5619749",
      "metadata": {
        "id": "e5619749"
      },
      "source": [
        "### Question\n",
        "We have created a visualization tool in Colab for the filtering process.\n",
        "    You can run the code blocks and an animation of the filtered Gaussian in each step will be shown.\n",
        "    There is also a plot showing the line chart of ground-truth locations, measurements, and posteriors."
      ]
    },
    {
      "cell_type": "code",
      "execution_count": null,
      "id": "1e50f645",
      "metadata": {
        "id": "1e50f645"
      },
      "outputs": [],
      "source": [
        "import matplotlib.pyplot as plt\n",
        "\n",
        "\n",
        "def plot_gaussian(dist: Gaussian, label: str, ax=None):\n",
        "    mean, var = dist.mean, dist.var\n",
        "\n",
        "    xmin, xmax, ymin, ymax = -5, 15, 0, 0.6\n",
        "    x = np.linspace(xmin, xmax, 100)\n",
        "    y = np.exp(-0.5 * np.square(x - mean) / var) / np.sqrt(2 * np.pi * var)\n",
        "    if ax is None:\n",
        "        fig, ax = plt.subplots()\n",
        "\n",
        "    ax.set_xlim([xmin, xmax])\n",
        "    ax.set_ylim([ymin, ymax])\n",
        "\n",
        "    ax.set_title(label)\n",
        "    ax.set_xlabel('Location')\n",
        "    ax.set_ylabel('Density')\n",
        "    ax.plot(x, y)\n",
        "\n",
        "\n",
        "PlotData = namedtuple(\"PlotData\", [\"name\", \"data\"])\n",
        "\n",
        "\n",
        "def render_animation(data_list: List[PlotData], plot_fn: Callable):\n",
        "    \"\"\"Render simulation as a matplotlib animation.\"\"\"\n",
        "    import matplotlib.animation as animation\n",
        "    from IPython import display as display\n",
        "\n",
        "    fig, ax = plt.subplots()\n",
        "\n",
        "    def render_frame(i):\n",
        "        ax.clear()\n",
        "        plot_fn(*data_list[i].data, label=data_list[i].name, ax=ax)\n",
        "        return ax\n",
        "\n",
        "    anim = animation.FuncAnimation(fig,\n",
        "                                   render_frame,\n",
        "                                   len(data_list),\n",
        "                                   interval=1000)\n",
        "    video = anim.to_jshtml()\n",
        "    html = display.HTML(video)\n",
        "    display.display(html)\n",
        "    plt.close()\n",
        "\n",
        "\n",
        "def plot_time(gt_locs,\n",
        "              measurements,\n",
        "              posterior,\n",
        "              label='Kalman Filtering',\n",
        "              ax=None):\n",
        "    xmin, xmax, ymin, ymax = 0, 10, -5, 15\n",
        "    x = range(xmin, xmax + 1)\n",
        "\n",
        "    if ax is None:\n",
        "        fig, ax = plt.subplots()\n",
        "\n",
        "    ax.set_xlim([xmin, xmax])\n",
        "    ax.set_ylim([ymin, ymax])\n",
        "\n",
        "    ax.set_title(label)\n",
        "    ax.set_xlabel('Time')\n",
        "    ax.set_ylabel('Location')\n",
        "\n",
        "    ax.plot(x, gt_locs, label='Ground Truth Location')\n",
        "    ax.scatter(x,\n",
        "            measurements,\n",
        "            label='measurements',\n",
        "            marker='o',\n",
        "            color='orange',\n",
        "            facecolors='none')\n",
        "\n",
        "    all_mu, all_var = map(np.asarray,\n",
        "                          zip(*[[pos.mean, pos.var] for pos in posterior]))\n",
        "    all_std = np.sqrt(all_var)\n",
        "    std_top = all_mu + all_std\n",
        "    std_btm = all_mu - all_std\n",
        "    ax.plot(x, all_mu, label='Filter mean', color='g')\n",
        "    ax.plot(x, std_top, linestyle='--', color='g', label='Filter mean +/- 1 stdev')\n",
        "    ax.plot(x, std_btm, linestyle='--', color='g')\n",
        "    ax.fill_between(x, std_btm, std_top, facecolor='g', alpha=0.1)\n",
        "\n",
        "    legend = plt.legend(loc='upper right')\n",
        "    plt.show()"
      ]
    },
    {
      "cell_type": "markdown",
      "id": "a6805e97",
      "metadata": {
        "id": "a6805e97"
      },
      "source": [
        "This code visualizes the first test example (kf_test1) with a fixed seed. You may vary it.\n",
        "    You can take a look on the animation.\n",
        "    Please note the changing in variance of process step and measurement step."
      ]
    },
    {
      "cell_type": "code",
      "execution_count": null,
      "id": "08cb177e",
      "metadata": {
        "id": "08cb177e"
      },
      "outputs": [],
      "source": [
        "def visualize_kalman_test1():\n",
        "    state_init = Gaussian(0, 40)\n",
        "    a = 1.\n",
        "    h = 1.\n",
        "    square_sigma_w = 1.\n",
        "    square_sigma_v = 2.\n",
        "    num_step = 10\n",
        "\n",
        "    simulator = Simulator_1d(process_var=square_sigma_w,\n",
        "                             measurement_var=square_sigma_v,\n",
        "                             seed=0)\n",
        "    controls = [1.0 for _ in range(num_step)]\n",
        "    measurements, gt_locs = map(\n",
        "        list,\n",
        "        zip(*[simulator.simulate_step(u, return_gt_loc=True)\n",
        "              for u in controls]))\n",
        "\n",
        "    result_list = [PlotData('init', [state_init])]\n",
        "\n",
        "    state = state_init\n",
        "    for i in range(num_step):\n",
        "        result_list.append(\n",
        "            PlotData(f'step_{i:02d}_process',\n",
        "                     [kf_process(state, a, square_sigma_w, controls[i])]))\n",
        "        state = kf(state, a, square_sigma_w, h, square_sigma_v, [controls[i]],\n",
        "                   [measurements[i]])\n",
        "        result_list.append(PlotData(f'step_{i:02d}_posterior', [state]))\n",
        "\n",
        "    gt_locs.insert(0, 0)\n",
        "    measurements.insert(0, 0)\n",
        "    render_animation(result_list, plot_gaussian)\n",
        "    plot_time(gt_locs, measurements, [\n",
        "        res.data[0]\n",
        "        for res in result_list\n",
        "        if 'posterior' in res.name or 'init' in res.name\n",
        "    ])\n",
        "\n",
        "\n",
        "visualize_kalman_test1()"
      ]
    },
    {
      "cell_type": "markdown",
      "id": "fa52ec3e",
      "metadata": {
        "id": "fa52ec3e"
      },
      "source": [
        "# Particle Filter Demo\n",
        "\n",
        "We've implemented a simple particle filter and visualization for you based on homework problem #5.\n"
      ]
    },
    {
      "cell_type": "code",
      "source": [
        "class HybridSimulator_1d:\n",
        "    \"\"\"A simulator for a robot moving in 1D based on problem #5.\n",
        "    \"\"\"\n",
        "\n",
        "    def __init__(self,\n",
        "                 init_state: float = 0.0,\n",
        "                 p_forward: float = 0.5,\n",
        "                 process_var: float = 0.0,\n",
        "                 forward_delta: float = 0.0,\n",
        "                 backward_delta: float = 0.0,\n",
        "                 seed = None):\n",
        "        # Initial simulator state\n",
        "        self.init_state = init_state\n",
        "        self.process_std = np.sqrt(process_var)\n",
        "        self.p_forward = p_forward\n",
        "        if seed is None:\n",
        "            self.rng = np.random.default_rng()\n",
        "        else:\n",
        "            self.rng = np.random.default_rng(seed)\n",
        "\n",
        "        self.forward_delta = forward_delta\n",
        "        self.backward_delta = backward_delta\n",
        "\n",
        "        self.state = self.init_state\n",
        "\n",
        "    def simulate_motion(self):\n",
        "        \"\"\"Simulate robot motion. This function updates the value of\n",
        "        self.state.\n",
        "        \"\"\"\n",
        "        if self.rng.random() < self.p_forward:\n",
        "            u = self.forward_delta\n",
        "        else:\n",
        "            u = self.backward_delta\n",
        "        motion_noise = self.rng.normal(0, self.process_std)\n",
        "        self.state = self.state + u + motion_noise\n",
        "\n",
        "    def simulate_sensing(self) -> float:\n",
        "        \"\"\"Simulate the robot sensing process. Returns a measurement of the robot's current location.\n",
        "            Measurement is based on the current location, with a Gaussian noise added.\n",
        "\n",
        "        Returns:\n",
        "            measurement: a scalar representing the measurement of robot's location.\n",
        "        \"\"\"\n",
        "        sensor_noise = self.rng.uniform(self.backward_delta, self.forward_delta)\n",
        "        return self.state + sensor_noise"
      ],
      "metadata": {
        "id": "fNK_7aJEWEcP"
      },
      "id": "fNK_7aJEWEcP",
      "execution_count": null,
      "outputs": []
    },
    {
      "cell_type": "code",
      "execution_count": null,
      "id": "0aea5f80",
      "metadata": {
        "id": "0aea5f80"
      },
      "outputs": [],
      "source": [
        "import scipy.stats\n",
        "p = .5\n",
        "forward_delta = 1\n",
        "step_noise_var = .1\n",
        "backward_delta = -1\n",
        "\n",
        "class ParticleFilter1D:\n",
        "    def __init__(self, num_particles, p):\n",
        "        # initialize all particles at 0 with some noise, weighted by a uniform dist'n\n",
        "        self.particles = np.random.normal(loc=0, scale=1e-3, size=num_particles)\n",
        "        self.weights = np.ones(num_particles) / num_particles\n",
        "        assert 0 <= p <= 1\n",
        "        self.p = p\n",
        "        self.rng = np.random.default_rng()\n",
        "\n",
        "    def compute_weights(self, measurement):\n",
        "        \"\"\"Compute the importance weights using the observation model from the problem.\n",
        "\n",
        "        Args:\n",
        "            measurement: observed y_t, location of robot.\n",
        "        \"\"\"\n",
        "        unif_prob = 1 / (forward_delta + abs(backward_delta))\n",
        "        def likelihood(o, x):\n",
        "          return unif_prob if x + backward_delta < o < x + forward_delta else 0.0\n",
        "\n",
        "        for i, p in enumerate(self.particles):\n",
        "            self.weights[i] = likelihood(measurement, p)\n",
        "        if self.weights.sum() == 0:\n",
        "            raise Exception(f\"Aborted due to particle death (all particle weights are 0). Current measurement is {measurement}. Current particles are {sorted(np.round(self.particles, 2))}\")\n",
        "        self.weights /= self.weights.sum()\n",
        "\n",
        "    def update(self, measurement):\n",
        "        \"\"\"Update the particles by resampling according to importance weights.\"\"\"\n",
        "        self.motion_model()\n",
        "        self.compute_weights(measurement)\n",
        "        assert len(self.particles.shape) == 1\n",
        "        self.particles = np.random.choice(self.particles, p=self.weights/self.weights.sum(), size=self.particles.shape[0])\n",
        "        # add noise\n",
        "        self.particles = self.particles + np.random.normal(0, 1e-3, size=self.particles.shape[0])\n",
        "\n",
        "\n",
        "    def motion_model(self):\n",
        "        stdev = np.sqrt(step_noise_var)\n",
        "        def forward_sample(x):\n",
        "            step = forward_delta if np.random.random() < p else backward_delta\n",
        "            return np.random.normal(x + step, stdev)\n",
        "        self.particles = np.array([forward_sample(x) for x in self.particles])\n",
        "\n",
        "def plot_particles(particles, gt, obs, label, ax):\n",
        "    \"\"\"Create a 1D scatterplot on y=0 to visualize the particles.\"\"\"\n",
        "    ax.set_title(label)\n",
        "    ax.set_xlim([-5, 5])\n",
        "    ax.set_ylim([-0.5,0.5])\n",
        "    ax.set_xlabel(\"Location\")\n",
        "    ax.scatter(particles, np.zeros_like(particles), c='green', label=\"Particles\")\n",
        "    ax.scatter(gt, 0, label=\"Ground truth\")\n",
        "    if obs is not None:\n",
        "      ax.scatter(obs, 0, c='orange', label=\"Observation\")\n",
        "\n",
        "    ax.legend()\n",
        "\n",
        "def render_pf_animation(data_list: List[PlotData], gt_locs, obs_list, plot_fn: Callable):\n",
        "    \"\"\"Render simulation as a matplotlib animation.\"\"\"\n",
        "    import matplotlib.animation as animation\n",
        "    from IPython import display as display\n",
        "\n",
        "    fig, ax = plt.subplots()\n",
        "\n",
        "    def render_frame(i):\n",
        "        ax.clear()\n",
        "        plot_fn(*data_list[i].data, gt_locs[i], None if i == 0 else obs_list[i-1], label=data_list[i].name, ax=ax)\n",
        "        return ax\n",
        "\n",
        "    anim = animation.FuncAnimation(fig,\n",
        "                                   render_frame,\n",
        "                                   len(data_list),\n",
        "                                   interval=1000)\n",
        "    video = anim.to_jshtml()\n",
        "    html = display.HTML(video)\n",
        "    display.display(html)\n",
        "    plt.close()\n",
        "\n",
        "def pf_plot_time(gt_locs, particle_sets, obs_list, label=\"Particle Filtering\", ax=None):\n",
        "    if ax is None:\n",
        "        fig,ax = plt.subplots()\n",
        "\n",
        "    xmin = 0\n",
        "    xmax = len(gt_locs)\n",
        "    x = np.arange(0, xmax)\n",
        "\n",
        "    stds = []\n",
        "    means = []\n",
        "    ymin=0\n",
        "    ymax=1\n",
        "    for ps in particle_sets:\n",
        "        ymax = max(ymax, max(ps.data[0]))\n",
        "        ymin = max(ymin, min(ps.data[0]))\n",
        "        means.append(ps.data[0].mean())\n",
        "        stds.append(ps.data[0].std())\n",
        "    ymin = min(ymin, min(gt_locs))\n",
        "    ymax = max(ymax, max(gt_locs))\n",
        "    ax.set_xlim([xmin, xmax])\n",
        "    ax.set_ylim([ymin, ymax])\n",
        "    means = np.array(means)\n",
        "    stds = np.array(stds)\n",
        "    std_top = means + stds\n",
        "    std_bottom = means - stds\n",
        "    plt.xticks(range(0, len(gt_locs)+1))\n",
        "    ax.plot(x,gt_locs, label=\"Ground truth\")\n",
        "    ax.scatter(np.arange(1, xmax), obs_list, label=\"Observations\", color='orange', facecolor=None)\n",
        "    ax.plot(x, means, label='Mean of particles', color='g')\n",
        "    ax.plot(x, std_top, linestyle='--', color='g', label='+/- 1 stdev of particles')\n",
        "    ax.plot(x, std_bottom, linestyle='--', color='g')\n",
        "    ax.fill_between(x, std_bottom, std_top, facecolor='g', alpha=.1)\n",
        "    ax.set_xlabel(\"Step #\")\n",
        "    ax.set_ylabel(\"Location\")\n",
        "    ax.legend()\n",
        "    ax.set_title(label)\n",
        "\n",
        "def visualize_particle_filter(num_steps, num_particles):\n",
        "    pf = ParticleFilter1D(num_particles, p)\n",
        "    sim = HybridSimulator_1d(init_state = 0, p_forward=p, process_var = step_noise_var, forward_delta = forward_delta, backward_delta = backward_delta)\n",
        "    result_list = []\n",
        "    gt_locs = []\n",
        "    obs_list = []\n",
        "    result_list.append(PlotData(f\"Init\", [pf.particles]))\n",
        "    gt_locs.append(sim.state)\n",
        "    for i in range(num_steps):\n",
        "        sim.simulate_motion()\n",
        "        y = sim.simulate_sensing()\n",
        "        obs_list.append(y)\n",
        "        gt_locs.append(sim.state)\n",
        "        pf.update(y)\n",
        "        # print(f'Particles: {pf.particles}')\n",
        "        result_list.append(PlotData(f\"Step_{i+1}\", [pf.particles]))\n",
        "    render_pf_animation(result_list, gt_locs, obs_list, plot_particles)\n",
        "    pf_plot_time(gt_locs, result_list, obs_list)\n",
        "\n",
        "visualize_particle_filter(num_steps = 20, num_particles = 60)\n",
        "\n"
      ]
    }
  ],
  "metadata": {
    "colab": {
      "name": "hw04_kalman.ipynb",
      "provenance": []
    },
    "kernelspec": {
      "display_name": "Python 3",
      "name": "python3"
    },
    "language_info": {
      "codemirror_mode": {
        "name": "ipython",
        "version": 3
      },
      "file_extension": ".py",
      "mimetype": "text/x-python",
      "name": "python",
      "nbconvert_exporter": "python",
      "pygments_lexer": "ipython3",
      "version": "3.10.12"
    }
  },
  "nbformat": 4,
  "nbformat_minor": 5
}